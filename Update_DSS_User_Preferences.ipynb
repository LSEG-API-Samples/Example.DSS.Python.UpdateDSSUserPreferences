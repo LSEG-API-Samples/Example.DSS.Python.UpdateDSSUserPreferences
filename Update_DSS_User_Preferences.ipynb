{
 "cells": [
  {
   "cell_type": "markdown",
   "metadata": {},
   "source": [
    "# Update DSS User Preferences\n",
    "This sample is for the DSS(DataScope Select) users who would like to change their user preferences using DSS REST API in Python.\n"
   ]
  },
  {
   "cell_type": "markdown",
   "metadata": {},
   "source": [
    "## Prerequisites\n",
    "- Python 3.6 or higher\n",
    "- Jupyter Notebook\n",
    "- DSS username and password.\n",
    "\n",
    "## Implementation\n",
    "### Step 1. Request authentication token"
   ]
  },
  {
   "cell_type": "markdown",
   "metadata": {},
   "source": [
    " - Import required modules"
   ]
  },
  {
   "cell_type": "code",
   "execution_count": null,
   "metadata": {},
   "outputs": [],
   "source": [
    "import getpass as gp\n",
    "import requests\n",
    "import json\n",
    "import pandas as pd\n",
    "import copy"
   ]
  },
  {
   "cell_type": "markdown",
   "metadata": {},
   "source": [
    " - Input DSS username and password"
   ]
  },
  {
   "cell_type": "code",
   "execution_count": null,
   "metadata": {},
   "outputs": [],
   "source": [
    "username=input('Enter DSS username:')\n",
    "password=gp.getpass('Enter DSS Password:')"
   ]
  },
  {
   "cell_type": "markdown",
   "metadata": {},
   "source": [
    " - Create authentication token request containing DSS username and password"
   ]
  },
  {
   "cell_type": "code",
   "execution_count": null,
   "metadata": {},
   "outputs": [],
   "source": [
    "requestUrl = \"https://hosted.datascopeapi.reuters.com/RestApi/v1/Authentication/RequestToken\"\n",
    "requestHeaders={\n",
    "    \"Prefer\":\"respond-async\",\n",
    "    \"Content-Type\":\"application/json\"\n",
    "    }\n",
    "requestBody={\n",
    "    \"Credentials\": {\n",
    "    \"Username\": username,\n",
    "    \"Password\": password\n",
    "  }\n",
    "}"
   ]
  },
  {
   "cell_type": "markdown",
   "metadata": {},
   "source": [
    "- send the request and waits for the response"
   ]
  },
  {
   "cell_type": "code",
   "execution_count": null,
   "metadata": {},
   "outputs": [],
   "source": [
    "authenticationResp = requests.post(requestUrl, json=requestBody,headers=requestHeaders)\n",
    "print(\"Received the response for authentication request\")"
   ]
  },
  {
   "cell_type": "markdown",
   "metadata": {},
   "source": [
    "- Check if the status code of the response is 200. If yes, the request has succeeded so extracts and prints the authentication token. Otherwise, print the error."
   ]
  },
  {
   "cell_type": "code",
   "execution_count": null,
   "metadata": {},
   "outputs": [],
   "source": [
    "if authenticationResp.status_code == 200 :\n",
    "    print(\"Received status code 200, get the authentication token from the response\")\n",
    "    jsonResponse = json.loads(authenticationResp.text.encode('ascii', 'ignore'))\n",
    "    token = jsonResponse[\"value\"]\n",
    "    print ('Authentication token (valid 24 hours):')\n",
    "    print (token)\n",
    "else:\n",
    "    print(\"Error with status code:\",authenticationResp.status_code,\"\\n Text:\",json.dumps(json.loads(authenticationResp.text),indent=4))"
   ]
  },
  {
   "cell_type": "markdown",
   "metadata": {},
   "source": [
    "### Step 2. Get the Current User Preferences\n"
   ]
  },
  {
   "cell_type": "markdown",
   "metadata": {},
   "source": [
    "- create user preferences request"
   ]
  },
  {
   "cell_type": "code",
   "execution_count": null,
   "metadata": {},
   "outputs": [],
   "source": [
    "requestUrl='https://hosted.datascopeapi.reuters.com/RestApi/v1/Users/UserPreferences'\n",
    "requestHeaders={\n",
    "    \"Prefer\":\"respond-async\",\n",
    "    \"Authorization\": \"token \" + token\n",
    "}"
   ]
  },
  {
   "cell_type": "markdown",
   "metadata": {},
   "source": [
    "- send the request and waits for the response"
   ]
  },
  {
   "cell_type": "code",
   "execution_count": null,
   "metadata": {},
   "outputs": [],
   "source": [
    "userPreferencesResp = requests.get(requestUrl, headers=requestHeaders)\n",
    "print(\"Received the response for user preferences request\")"
   ]
  },
  {
   "cell_type": "markdown",
   "metadata": {},
   "source": [
    "- Check if the status code of the response is 200. If yes, the request has succeeded so extracts and prints the user preferences. Otherwise, print the error."
   ]
  },
  {
   "cell_type": "code",
   "execution_count": null,
   "metadata": {},
   "outputs": [],
   "source": [
    "userPreferencesJson = None\n",
    "if userPreferencesResp.status_code == 200 :\n",
    "    print(\"Received status code 200, requested for user preferences successfully\")\n",
    "    userPreferencesJson = json.loads(userPreferencesResp.text.encode('ascii', 'ignore'))\n",
    "    wholePref = userPreferencesJson[\"value\"][0]\n",
    "else:\n",
    "    print(\"Error with status code:\",userPreferencesResp.status_code,\"\\n Text:\",json.dumps(json.loads(userPreferencesResp.text),indent=4))"
   ]
  },
  {
   "cell_type": "markdown",
   "metadata": {},
   "source": [
    "- Function to get and display user preferences  "
   ]
  },
  {
   "cell_type": "code",
   "execution_count": null,
   "metadata": {},
   "outputs": [],
   "source": [
    "def getUserPreference(preference, paramsName):\n",
    "    dfSetting = pd.DataFrame(list(preference.items()), columns=[paramsName, 'Value'])\n",
    "    dfSetting.index += 1\n",
    "    print(\"\\t \" + paramsName +\" table\")\n",
    "    return dfSetting"
   ]
  },
  {
   "cell_type": "markdown",
   "metadata": {},
   "source": [
    "- Get and display Content Setting user preferences  "
   ]
  },
  {
   "cell_type": "code",
   "execution_count": null,
   "metadata": {},
   "outputs": [],
   "source": [
    "contentSetting = wholePref['ContentSettings']\n",
    "dfContent = getUserPreference(contentSetting, \"Content Settings Parameter\")  \n",
    "dfContent"
   ]
  },
  {
   "cell_type": "markdown",
   "metadata": {},
   "source": [
    "- Get and display UI setting user preferences  "
   ]
  },
  {
   "cell_type": "code",
   "execution_count": null,
   "metadata": {},
   "outputs": [],
   "source": [
    "uiSetting = wholePref['UiSettings']\n",
    "dfUISetting = getUserPreference(uiSetting, \"UI Settings Parameter\")  \n",
    "dfUISetting"
   ]
  },
  {
   "cell_type": "markdown",
   "metadata": {},
   "source": [
    "### Step 3. Update User Preferences\n"
   ]
  },
  {
   "cell_type": "markdown",
   "metadata": {},
   "source": [
    "- Function to input the user preferences parameters which will be updated."
   ]
  },
  {
   "cell_type": "code",
   "execution_count": null,
   "metadata": {},
   "outputs": [],
   "source": [
    "def getUpdatedUserPreference(prefParams, prefType, example):\n",
    "    updatedParams = {}\n",
    "    print(\"Please see \" + prefType + \" Table above.\")\n",
    "    updatedInput=input(\"Enter an updated \" + prefType + \" e.g.\" + example + \" (press enter to exit):\")\n",
    "    while len(updatedInput) > 0:\n",
    "        updatedIndexValue=updatedInput.split(\" \",1)\n",
    "        updatedIndex = int(updatedIndexValue[0])\n",
    "        index = 0\n",
    "        for key in prefParams:\n",
    "            index += 1\n",
    "            if index==updatedIndex:\n",
    "                prefParams[key] = updatedIndexValue[1]\n",
    "                print(key + \" will be updated to \" + prefParams[key])\n",
    "                print()\n",
    "        updatedInput=input(\"Enter an updated \"+ prefType + \" (press enter to exit):\")\n",
    "    updatedParams = copy.deepcopy(prefParams)  \n",
    "    return updatedParams"
   ]
  },
  {
   "cell_type": "markdown",
   "metadata": {},
   "source": [
    "- Select the updated Content Setting user preferences and their new values. \n",
    "\n",
    "- The valid values of **PreferredIdentifier** are **RIC**, **CSP**, **ISN**, **VAL**, **WPK**, **COM**, **SED**. CSP is Cusip, ISN is ISIN, VAL is Valoren, WPK is Wertpapier, COM is Common Code and SED is Sedol.\n",
    "\n",
    "- For the valid values of another parameters, please refer to [Update User Preference in REST API Reference Tree](https://hosted.datascopeapi.reuters.com/RestApi.Help/Context/Operation?ctx=Users&ent=UserPreference&opn=Update)\n",
    "\n"
   ]
  },
  {
   "cell_type": "code",
   "execution_count": null,
   "metadata": {},
   "outputs": [],
   "source": [
    "updatedContentParams=getUpdatedUserPreference(contentSetting,\"Content Settings Parameter\", \"2 False\")"
   ]
  },
  {
   "cell_type": "markdown",
   "metadata": {},
   "source": [
    "- Select the updated UI Setting user preferences and their new values. For the valid values of each parameters, please refer to [Update User Preference in REST API Reference Tree](https://hosted.datascopeapi.reuters.com/RestApi.Help/Context/Operation?ctx=Users&ent=UserPreference&opn=Update)"
   ]
  },
  {
   "cell_type": "code",
   "execution_count": null,
   "metadata": {},
   "outputs": [],
   "source": [
    "updatedUIParams=getUpdatedUserPreference(uiSetting,\"UI Settings Parameter\", \"2 hh:mm tt\")"
   ]
  },
  {
   "cell_type": "markdown",
   "metadata": {},
   "source": [
    "- Create a Request for update user preferences"
   ]
  },
  {
   "cell_type": "code",
   "execution_count": null,
   "metadata": {},
   "outputs": [],
   "source": [
    "requestUrl='https://hosted.datascopeapi.reuters.com/RestApi/v1/Users/UserPreferences('+username+')'\n",
    "requestHeaders={\n",
    "    \"Prefer\":\"respond-async\",\n",
    "    \"Authorization\": \"token \" + token\n",
    "}\n",
    "requestBody={\n",
    "    \"UserPreferenceId\": int(username),\n",
    "    \"ContentSettings\": \n",
    "       updatedContentParams,\n",
    "     \"UiSettings\": \n",
    "       updatedUIParams\n",
    "}"
   ]
  },
  {
   "cell_type": "markdown",
   "metadata": {},
   "source": [
    "- Send HTTP Put request for update user preferences"
   ]
  },
  {
   "cell_type": "code",
   "execution_count": null,
   "metadata": {},
   "outputs": [],
   "source": [
    "updatedPrefResp = requests.put(requestUrl, json=requestBody,headers=requestHeaders)\n",
    "print(\"Received the response for update user preferences request\")"
   ]
  },
  {
   "cell_type": "markdown",
   "metadata": {},
   "source": [
    "- Check if user preferences has been updated successfully"
   ]
  },
  {
   "cell_type": "code",
   "execution_count": null,
   "metadata": {
    "scrolled": true
   },
   "outputs": [],
   "source": [
    "if updatedPrefResp.status_code == 204 :\n",
    "    print(\"Received status code 204, updated user preferences successfully\")\n",
    "else:\n",
    "    print(\"Error with status code:\",updatedPrefResp.status_code,\"\\n Text:\",json.dumps(json.loads(updatedPrefResp.text),indent=4))"
   ]
  },
  {
   "cell_type": "code",
   "execution_count": null,
   "metadata": {},
   "outputs": [],
   "source": []
  }
 ],
 "metadata": {
  "kernelspec": {
   "display_name": "Python 3",
   "language": "python",
   "name": "python3"
  },
  "language_info": {
   "codemirror_mode": {
    "name": "ipython",
    "version": 3
   },
   "file_extension": ".py",
   "mimetype": "text/x-python",
   "name": "python",
   "nbconvert_exporter": "python",
   "pygments_lexer": "ipython3",
   "version": "3.6.5"
  }
 },
 "nbformat": 4,
 "nbformat_minor": 1
}
